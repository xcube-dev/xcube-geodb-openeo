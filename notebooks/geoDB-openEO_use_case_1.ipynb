{
 "cells": [
  {
   "cell_type": "markdown",
   "metadata": {},
   "source": [
    "# Demonstration of basic geoDB capabilities + Use Case #1\n",
    "\n",
    "This notebook demonstrates the STAC capabilities of the geoDB openEO backend, as well as the simple use case #1: accessing and downloading data from the geoDB using the openeo client. \n",
    "\n",
    "## Preparations\n",
    "First, we open a connection to the geoDB openEO backend."
   ]
  },
  {
   "cell_type": "code",
   "execution_count": null,
   "outputs": [],
   "source": [
    "import openeo\n",
    "\n",
    "# geodb_url = 'https://geodb.openeo.dev.brockmann-consult.de'\n",
    "geodb_url = 'http://localhost:8080'\n",
    "geodb = openeo.connect(geodb_url)"
   ],
   "metadata": {
    "collapsed": false
   }
  },
  {
   "cell_type": "markdown",
   "source": [
    "We print the general metadata:"
   ],
   "metadata": {
    "collapsed": false
   }
  },
  {
   "cell_type": "code",
   "execution_count": null,
   "metadata": {},
   "outputs": [],
   "source": [
    "geodb.capabilities()"
   ]
  },
  {
   "cell_type": "markdown",
   "metadata": {},
   "source": [
    "Show the file formats the geoDB-openEO-backend supports:"
   ]
  },
  {
   "cell_type": "code",
   "execution_count": null,
   "metadata": {},
   "outputs": [],
   "source": [
    "geodb.list_file_formats()"
   ]
  },
  {
   "cell_type": "markdown",
   "metadata": {},
   "source": [
    "### STAC\n",
    "List the collections currently available using the geoDB-openEO-backend:"
   ]
  },
  {
   "cell_type": "code",
   "execution_count": null,
   "metadata": {},
   "outputs": [],
   "source": [
    "geodb.list_collection_ids()"
   ]
  },
  {
   "cell_type": "markdown",
   "metadata": {},
   "source": [
    "List details of the `AT_2021_EC21` collection:"
   ]
  },
  {
   "cell_type": "code",
   "execution_count": null,
   "metadata": {},
   "outputs": [],
   "source": [
    "geodb.describe_collection('my_eurocrops~AT_2021_EC21')"
   ]
  },
  {
   "cell_type": "markdown",
   "source": [
    "Show the collection's items, but not using the openeo-client's function -- it has a bug. Rather, we're using the direct URL:\n",
    "https://geodb.openeo.dev.brockmann-consult.de/collections/geodb_b34bfae7-9265-4a3e-b921-06549d3c6035~alster_debug/items"
   ],
   "metadata": {
    "collapsed": false
   }
  },
  {
   "cell_type": "markdown",
   "source": [
    "Show the processes currently implemented in the geoDB openEO backend:"
   ],
   "metadata": {
    "collapsed": false
   }
  },
  {
   "cell_type": "code",
   "execution_count": null,
   "metadata": {},
   "outputs": [],
   "source": [
    "geodb.list_processes()"
   ]
  },
  {
   "cell_type": "markdown",
   "metadata": {},
   "source": [
    "## Use Case 1\n",
    "Load a collection using the process `LoadCollection`, which is internally used by the openeo-client function `load_collection`. Then download the collection using the process `SaveResult`, which is also internally used by the openeo-client function `download`.\n",
    "Ignore the warning message: the openeo-client complains about the unknown dimension type 'geometry', but this is specified in the STAC extension 'datacube', so it is fine."
   ]
  },
  {
   "cell_type": "code",
   "execution_count": null,
   "outputs": [],
   "source": [
    "collection = geodb.load_collection('openeo~pop_hamburg')\n",
    "collection.download('./hamburg-pop.json', 'GeoJSON')"
   ],
   "metadata": {
    "collapsed": false
   }
  },
  {
   "cell_type": "markdown",
   "source": [
    "Open the downloaded data in a GeoDataFrame, and visualise its geometries:"
   ],
   "metadata": {
    "collapsed": false
   }
  },
  {
   "cell_type": "code",
   "execution_count": null,
   "outputs": [],
   "source": [
    "import geopandas\n",
    "gdf = geopandas.read_file('./hamburg-pop.json')\n",
    "\n",
    "gdf.plot()"
   ],
   "metadata": {
    "collapsed": false
   }
  }
 ],
 "metadata": {
  "kernelspec": {
   "display_name": "Python 3 (ipykernel)",
   "language": "python",
   "name": "python3"
  },
  "language_info": {
   "codemirror_mode": {
    "name": "ipython",
    "version": 3
   },
   "file_extension": ".py",
   "mimetype": "text/x-python",
   "name": "python",
   "nbconvert_exporter": "python",
   "pygments_lexer": "ipython3",
   "version": "3.9.12"
  }
 },
 "nbformat": 4,
 "nbformat_minor": 1
}
